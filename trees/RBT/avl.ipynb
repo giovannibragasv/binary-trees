{
 "cells": [
  {
   "cell_type": "markdown",
   "metadata": {},
   "source": [
    "# Implementação de árvores AVL em Python"
   ]
  },
  {
   "cell_type": "markdown",
   "metadata": {},
   "source": [
    "## Pré-Requisitos"
   ]
  },
  {
   "cell_type": "markdown",
   "metadata": {},
   "source": [
    "### Instalação de Bibliotecas"
   ]
  },
  {
   "cell_type": "code",
   "execution_count": null,
   "metadata": {},
   "outputs": [],
   "source": [
    "pip install matplotlib networkx"
   ]
  },
  {
   "cell_type": "markdown",
   "metadata": {},
   "source": [
    "### Importação de Bibliotecas"
   ]
  },
  {
   "cell_type": "code",
   "execution_count": 2,
   "metadata": {},
   "outputs": [],
   "source": [
    "import matplotlib.pyplot as plt\n",
    "import networkx as nx"
   ]
  },
  {
   "cell_type": "markdown",
   "metadata": {},
   "source": [
    "## Algorítmos"
   ]
  },
  {
   "cell_type": "code",
   "execution_count": null,
   "metadata": {},
   "outputs": [],
   "source": [
    "class Node:\n",
    "    \"\"\"\n",
    "    Representa um nó em uma árvore AVL\n",
    "    \"\"\"\n",
    "    def __init__(self, key, left=None, right=None, parent=None, height=1):\n",
    "        self.key = key\n",
    "        self.left = left\n",
    "        self.right = right\n",
    "        self.parent = parent\n",
    "        self.height = height\n",
    "        \n",
    "class AVLTree:\n",
    "    \"\"\"\n",
    "    Representa uma árvore AVL, que eh uma árvore binária de busca balanceada.\n",
    "    \"\"\"\n",
    "    def __init__(self):\n",
    "        \"\"\"\n",
    "        Inicializa uma árvore AVL vazia\n",
    "        \"\"\"\n",
    "        self.root = None\n",
    "    \n",
    "    def get_height(self, node):\n",
    "        \"\"\"\n",
    "        Obtém a altura de um nó. Se o nó for None, retorna 0.\n",
    "        Args:\n",
    "            node: nó cuja altura será obtida\n",
    "        Returns:\n",
    "            A altura do nó\n",
    "        \"\"\"\n",
    "        if not node:\n",
    "            return 0\n",
    "        return node.height\n",
    "    \n",
    "    def get_balance(self, node):\n",
    "        \"\"\"\n",
    "        Obtém o fator de balanceamento de um nó. Se o nó for None, retorna 0.\n",
    "        Args:\n",
    "            node: nó cujo fator de balanceamento será obtido\n",
    "        Returns:\n",
    "            O fator de balanceamento do nó\n",
    "        \"\"\"\n",
    "        if not node:\n",
    "            return 0\n",
    "        return self.get_height(node.left) - self.get_height(node.right)\n",
    "        "
   ]
  }
 ],
 "metadata": {
  "kernelspec": {
   "display_name": "Python 3 (ipykernel)",
   "language": "python",
   "name": "python3"
  }
 },
 "nbformat": 4,
 "nbformat_minor": 2
}
